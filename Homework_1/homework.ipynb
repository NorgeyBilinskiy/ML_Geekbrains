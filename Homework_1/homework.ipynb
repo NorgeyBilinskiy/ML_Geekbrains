{
 "cells": [
  {
   "cell_type": "markdown",
   "metadata": {},
   "source": [
    "## <h1 id=\"aa\" style=\"color:white;background:#B00000;padding:8px;border-radius:8px;font-family:newtimeroman;\"> Импорт библиотек </h1> "
   ]
  },
  {
   "cell_type": "code",
   "execution_count": 1,
   "metadata": {},
   "outputs": [],
   "source": [
    "import numpy as np \n"
   ]
  },
  {
   "cell_type": "markdown",
   "metadata": {},
   "source": [
    "## <h1 id=\"aa\" style=\"color:white;background:#B00000;padding:8px;border-radius:8px;font-family:newtimeroman;\"> Рассчёт MAE и rMSE через Numpy</h1> "
   ]
  },
  {
   "cell_type": "code",
   "execution_count": 5,
   "metadata": {},
   "outputs": [],
   "source": [
    "actual_values = np.array([100, 150, 200, 250, 1_000, 1, 0.1])\n",
    "predicted_values = np.array([90, 140, 180, 270, 500, 5, 0.1])\n"
   ]
  },
  {
   "cell_type": "code",
   "execution_count": 6,
   "metadata": {},
   "outputs": [
    {
     "name": "stdout",
     "output_type": "stream",
     "text": [
      "RMSE: 189.36585904388514\n",
      "MAE: 80.57142857142857\n"
     ]
    }
   ],
   "source": [
    "rmse = np.sqrt(np.mean((actual_values - predicted_values) ** 2))\n",
    "mae = np.mean(np.abs(actual_values - predicted_values))\n",
    "print(f\"RMSE: {rmse}\")\n",
    "print(f\"MAE: {mae}\")\n"
   ]
  },
  {
   "cell_type": "code",
   "execution_count": null,
   "metadata": {},
   "outputs": [],
   "source": []
  }
 ],
 "metadata": {
  "kernelspec": {
   "display_name": "data_parsing",
   "language": "python",
   "name": "python3"
  },
  "language_info": {
   "codemirror_mode": {
    "name": "ipython",
    "version": 3
   },
   "file_extension": ".py",
   "mimetype": "text/x-python",
   "name": "python",
   "nbconvert_exporter": "python",
   "pygments_lexer": "ipython3",
   "version": "3.10.14"
  }
 },
 "nbformat": 4,
 "nbformat_minor": 2
}
